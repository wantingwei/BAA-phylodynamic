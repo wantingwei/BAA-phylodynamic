{
 "cells": [
  {
   "cell_type": "code",
   "execution_count": null,
   "metadata": {},
   "outputs": [],
   "source": [
    " import pandas as pd "
   ]
  },
  {
   "cell_type": "code",
   "execution_count": null,
   "metadata": {},
   "outputs": [],
   "source": [
    "# as we keep pulling sample from the existing datasheet, it is critical to exlcude them in further pulling\n",
    "df = pd.read_csv(\"filtered_sequenceable_sample.csv\")\n",
    "df2 = pd.read_csv(\"2024_first_pulling.csv\")\n",
    "\n",
    "# Identify MPI values in the first pulling file\n",
    "mpi_values_to_exclude = set(df2['MPI'].unique())\n",
    "\n",
    "# Drop rows from the meta_with_fips_df where MPI matches those in mpi_values_to_exclude\n",
    "filtered_meta_with_fips_df = df[~df['MPI'].isin(mpi_values_to_exclude)]\n",
    "\n",
    "filtered_meta_with_fips_df.to_csv('03_27_metadata_sequenceable.csv', index=False)\n",
    "# this dataframe is the sequencable sample that we should focus in the future"
   ]
  },
  {
   "cell_type": "code",
   "execution_count": null,
   "metadata": {},
   "outputs": [],
   "source": [
    "#next I would like to assign 12 digits fips code based on the metdata \n",
    "\n",
    "data = pd.read_csv('previsouly_generate_file.csv')\n",
    "data['CensusBlock'] = data['CensusBlock'].astype(str).replace(r'\\.0$', '', regex=True)\n",
    "data['block_group'] = data['CensusBlock'].astype(str).str[0]"
   ]
  },
  {
   "cell_type": "code",
   "execution_count": null,
   "metadata": {},
   "outputs": [],
   "source": [
    "data['CountyFIPS'] = data['CountyFIPS'].astype(str).replace(r'\\.0$', '', regex=True)\n",
    "data['CensusTract'] = data['CensusTract'].astype(str).replace(r'\\.0$', '', regex=True).str.pad(6,fillchar='0')\n",
    "\n",
    "data['FIPS_temp'] = data.CountyFIPS.str.cat(data.CensusTract)\n",
    "\n",
    "data['FIPS_temp'] = data['FIPS_temp'].astype(str).replace(r'\\.0$', '', regex=True)\n",
    "data['CensusBlock'] = data['CensusBlock'].astype(str).replace(r'\\.0$', '', regex=True)\n",
    "data['block_group'] = data['CensusBlock'].astype(str).str[0]\n",
    "\n",
    "data['FIPS'] = data.FIPS_temp.str.cat(data.block_group)\n",
    "\n",
    "data = data.drop('FIPS_temp', axis=1)\n",
    "#save the data with complete 12 digit FIPS code\n",
    "data.to_csv('freezer_available_04_22_with_fips_12digit.csv')"
   ]
  },
  {
   "cell_type": "code",
   "execution_count": null,
   "metadata": {},
   "outputs": [],
   "source": [
    "#assign ADI based on the FIPS code \n",
    "data = pd.read_csv(''freezer_available_04_22_with_fips_12digit.csv')\n",
    "adi = pd.read_csv('WI_2021_ADI_Census_Block_Group_v4_0_1.csv')\n",
    "data['CensusBlock'] = data['CensusBlock'].astype(str).replace(r'\\.0$', '', regex=True)\n",
    "data['block_group'] = data['CensusBlock'].astype(str).str[0]\n",
    "data['CountyFIPS'] = data['CountyFIPS'].astype(str).replace(r'\\.0$', '', regex=True)\n",
    "data['CensusTract'] = data['CensusTract'].astype(str).replace(r'\\.0$', '', regex=True).str.pad(6,fillchar='0')\n",
    "\n",
    "data['FIPS_temp'] = data.CountyFIPS.str.cat(data.CensusTract)\n",
    "\n",
    "data['FIPS_temp'] = data['FIPS_temp'].astype(str).replace(r'\\.0$', '', regex=True)\n",
    "data['CensusBlock'] = data['CensusBlock'].astype(str).replace(r'\\.0$', '', regex=True)\n",
    "data['block_group'] = data['CensusBlock'].astype(str).str[0]\n",
    "\n",
    "data['FIPS'] = data.FIPS_temp.str.cat(data.block_group)\n",
    "data = data.drop('FIPS_temp', axis=1)\n",
    "adi['FIPS'] = adi['FIPS'].astype(str).replace(r'\\.0$', '', regex=True)\n",
    "data['FIPS'] = data['FIPS'].astype(str).replace(r'\\.0$', '', regex=True)\n",
    "\n",
    "\n",
    "data_w_adi = pd.merge(data, adi, how='left', on=['FIPS'])\n",
    "data_w_adi.to_csv('freezer_available_04_22_with_ADI.csv')\n",
    "\n"
   ]
  },
  {
   "cell_type": "code",
   "execution_count": null,
   "metadata": {},
   "outputs": [],
   "source": [
    "\n",
    "#assign RUCA code based on the FIPS code\n",
    "meta_with_fips_df = pd.read_csv('freezer_available_04_22_with_fips_12digit.csv')\n",
    "ruca_data_df = pd.read_csv('RUCA-Definitions.csv')\n",
    "\n",
    "# Ensure both FIPS and GEOCODE are treated as strings\n",
    "meta_with_fips_df['FIPS'] = meta_with_fips_df['FIPS'].astype(str)\n",
    "# Ensure the correct column for GEOCODE (Total-FIPS-Code) is used\n",
    "ruca_data_df['Total-FIPS-Code'] = ruca_data_df['Total-FIPS-Code'].astype(str)\n",
    "\n",
    "# Truncate FIPS to the first 11 characters to match with Total-FIPS-Code\n",
    "meta_with_fips_df['FIPS_RUCA'] = meta_with_fips_df['FIPS'].str[:11]\n",
    "\n",
    "# Merge the dataframes on the prepared FIPS and GEOCODE columns\n",
    "merged_df = pd.merge(meta_with_fips_df, ruca_data_df, left_on='FIPS_RUCA', right_on='Total-FIPS-Code', how='left')\n",
    "\n",
    "# Check for missing information post-merge\n",
    "missing_info = merged_df[merged_df['Total-FIPS-Code'].isna()]\n",
    "print(f\"Rows with missing RUCA info: {missing_info.shape[0]}\")\n",
    "\n",
    "missing_info = merged_df[merged_df['ADI_STATERNK'].isna()]\n",
    "print(f\"Rows with missing ADI info: {missing_info.shape[0]}\")\n",
    "\n",
    "merged_df.dropna(subset=['State-County FIPS Code'], inplace=True)\n",
    "#save the merged dataframe\n",
    "merged_df.to_csv(\"freezer_available_04_22_with_fips_12digiit_RUCA.csv\")"
   ]
  }
 ],
 "metadata": {
  "language_info": {
   "name": "python"
  }
 },
 "nbformat": 4,
 "nbformat_minor": 2
}
